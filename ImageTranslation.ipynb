{
 "cells": [
  {
   "cell_type": "markdown",
   "metadata": {},
   "source": [
    "# Here we train a GAN to add details to the upsampled images by cubic interpolation"
   ]
  },
  {
   "cell_type": "code",
   "execution_count": 1,
   "metadata": {},
   "outputs": [],
   "source": [
    "from probadata import *\n",
    "import time\n",
    "\n",
    "from IPython.display import clear_output"
   ]
  },
  {
   "cell_type": "code",
   "execution_count": 2,
   "metadata": {},
   "outputs": [],
   "source": [
    "ds = ProbaVDataset(\"GeneratedData/\")"
   ]
  },
  {
   "cell_type": "code",
   "execution_count": 31,
   "metadata": {},
   "outputs": [],
   "source": [
    "import os\n",
    "from glob import glob\n",
    "\n",
    "import skimage\n",
    "import numpy as np\n",
    "\n",
    "import matplotlib\n",
    "import matplotlib.pyplot as plt\n",
    "import tensorflow as tf\n",
    "\n",
    "from supreshelper import *\n",
    "\n",
    "from typing import List\n",
    "\n",
    "PATCH_SIZE = 32\n",
    "LR_HR_RATIO = 3\n",
    "HR_MAX = 17500\n",
    "\n",
    "\n",
    "class Scene() :\n",
    "    \"\"\"Data holder for scene images paths containing list of paths and paths to all\n",
    "    relevant images in the scene\n",
    "    \"\"\"\n",
    "    \n",
    "    def __init__(self, qms: List[str], lrs: List[str], sm: str, uplr:str, hr: str=None):\n",
    "        self.qms = qms\n",
    "        self.lrs = lrs\n",
    "        self. sm = sm\n",
    "        self.hr = hr\n",
    "        self.uplr = uplr\n",
    "\n",
    "class ProbaVDataset():\n",
    "    \"\"\"Management of the proba-v-super-resolution challenge's data.\n",
    "    1) Check if the provided data matches the hypothesis\n",
    "    2) Load images/patches\n",
    "    3) ...\n",
    "    \n",
    "    Attributes:\n",
    "        data_dir: string path to the Data folder (containing the train and test folders)\n",
    "    \"\"\"\n",
    "    \n",
    "    def __init__(self, data_dir: str):\n",
    "        self.train_samples = glob(data_dir +  \"train/*/*\") \n",
    "        self.test_samples = glob(data_dir + \"test/*/*\")\n",
    "        \n",
    "        self._check_dataset()\n",
    "        \n",
    "        # We store current pivot to vizualize, a bit hacky for now\n",
    "        self.pivot = None\n",
    "        \n",
    "    \n",
    "    def _check_dataset(self):\n",
    "        \"\"\"Check that the downloaded data respects the following\n",
    "            - always with at least 9 QM/LR\n",
    "            - Same number of LR and QM\n",
    "            - SM/HR exists\n",
    "        \"\"\"\n",
    "        for scene_path in self.train_samples + self.test_samples:\n",
    "            scene = self.get_scene_content(scene_path)\n",
    "            assert (len(scene.qms) >= 9), \"Less than 9 images at scene\" + scene_path\n",
    "            assert (os.path.isfile(scene.sm)), \"Missing SM image at scene \" + scene_path\n",
    "            \n",
    "            if scene_path.split(\"/\")[1] == \"train\":\n",
    "                assert (len(scene.lrs) == len(scene.qms) + 1), \"Number of QMS and LRS + 1 images are not identical at scene \" + scene_path + \": \" + str(len(scene.lrs) + 1) + \" / \" + str(len(scene.qms))\n",
    "                assert (os.path.isfile(scene.hr)), \"Missing HR image at scene \" + scene_path\n",
    "            else:\n",
    "                assert (len(scene.lrs) == len(scene.qms)), \"Number of QMS and LRS images are not identical at scene \" + scene_path + \": \" + str(len(scene.lrs) + 1) + \" / \" + str(len(scene.qms))\n",
    "                assert (os.path.isfile(scene.uplr)), \"Missing SM image at scene \" + scene_path\n",
    "                \n",
    "    def get_scene_content(self, scene_path: str):\n",
    "        \"\"\"Finds the file for a given scene (folder) in the dataset\n",
    "\n",
    "            Args:\n",
    "                scene_path: The path to scene's folder\n",
    "\n",
    "            Returns\n",
    "                a Scene object (see Scene class)\n",
    "        \"\"\"\n",
    "        qms = glob(scene_path + \"/QM*.png\")\n",
    "        lrs = glob(scene_path + \"/LR*.png\")\n",
    "        sm = scene_path + \"/SM.png\"\n",
    "        hr = scene_path + \"/HR.png\"\n",
    "        up_lr = scene_path + \"/up_LR.png\"\n",
    "        \n",
    "        return Scene(qms, lrs, sm, up_lr, hr)\n",
    "    \n",
    "    def load_image(self, img_path, is_quality_map=False):\n",
    "        image = tf.image.decode_png(tf.io.read_file(img_path), dtype=tf.uint16)\n",
    "        input_image = tf.cast(image, tf.float32)\n",
    "        if not is_quality_map:\n",
    "            return input_image / HR_MAX\n",
    "        else:\n",
    "            return input_image\n",
    "        \n",
    "    \"\"\"\n",
    "    Patches Block\n",
    "    \"\"\"\n",
    "    # Jitter is basically 40 - 32\n",
    "    def load_qms_lrs_patches(self, scene: Scene, pivot: tf.Tensor, jitter: int=8):\n",
    "        j_d = (int)((PATCH_SIZE + 8) / 2)\n",
    "        h,w = pivot\n",
    "        \n",
    "        slices = [slice(h - j_d, h + j_d), slice(w - j_d, w + j_d), 0]\n",
    "        qm_tensors = [self.load_image(path, True)[slices] for path in scene.qms]\n",
    "        lr_tensors = [self.load_image(path)[slices] for path in scene.lrs]\n",
    "\n",
    "        # Contains list of [qm, lr] tensors pairs \n",
    "        patches_stack = [tf.stack([qm, lr], axis=0) for qm, lr in zip(qm_tensors, lr_tensors)]\n",
    "        return patches_stack\n",
    "    \n",
    "    def load_hr_sm(self, scene: Scene):\n",
    "        hr = self.load_image(scene.hr)\n",
    "        sm = self.load_image(scene.sm, True)\n",
    "        return sm, hr\n",
    "    \n",
    "    def visuzalize(self, scene: Scene):\n",
    "        \"\"\" Shows an example of input output \n",
    "        \"\"\"\n",
    "        # Get scene tensors\n",
    "        stack_cropped, label = self.get_random_patch_stack_and_label(scene)\n",
    "        \n",
    "        fig = plt.figure(figsize=(25,25))\n",
    "        i = 1\n",
    "        for s_c in stack_cropped:\n",
    "            ax = plt.subplot(15,4,i)\n",
    "            ax.axis('off');\n",
    "            plt.imshow(s_c[0], cmap=\"copper\", vmin=0, vmax=255)\n",
    "            ax = plt.subplot(15,4,i+1)\n",
    "            ax.axis('off');\n",
    "            plt.imshow(s_c[1])\n",
    "            i += 2\n",
    "            \n",
    "        fig = plt.figure(figsize=(10,10))\n",
    "        ax = plt.subplot(1,2,1)\n",
    "        ax.axis('off');\n",
    "        plt.imshow(label[0], cmap=\"copper\", vmin=0, vmax=255)\n",
    "        ax = plt.subplot(1,2,2)\n",
    "        ax.axis('off');\n",
    "        plt.imshow(label[1])\n",
    "        \n",
    "        fig = plt.figure(figsize=(10,10))\n",
    "        ax = fig.add_subplot(1,2,1)\n",
    "        ax.axis('off');\n",
    "        ax.add_patch(matplotlib.patches.Rectangle((self.pivot[1]*3 - 48, self.pivot[0]*3 - 48), 96, 96, color=\"red\", alpha=0.3))\n",
    "        plt.imshow(self.load_image(scene.sm, True)[:,:,0], cmap=\"copper\", vmin=0, vmax=255)\n",
    "        \n",
    "        ax = fig.add_subplot(1,2,2)\n",
    "        ax.axis('off');\n",
    "        plt.imshow(self.load_image(scene.hr)[:,:,0])\n",
    "        ax.add_patch(matplotlib.patches.Rectangle((self.pivot[1]*3 - 48, self.pivot[0]*3 - 48), 96, 96, color=\"red\", alpha=0.3))\n",
    "        plt.show()\n",
    "    \n",
    "    def get_random_patch_stack_and_label(self, scene: Scene):\n",
    "        pivot = ds.get_pivot().numpy()\n",
    "        self.pivot = pivot\n",
    "        \n",
    "        jitter = 8\n",
    "        patches_stack = self.load_qms_lrs_patches(scene, pivot, jitter)\n",
    "        # Get Random crop from 40 (depends on jitter) by 40 patch\n",
    "        stack_cropped = [tf.image.random_crop(patch, size=[2, PATCH_SIZE, PATCH_SIZE]) for patch in patches_stack]\n",
    "        \n",
    "        # Get label at pivot point\n",
    "        sm, hr = self.load_hr_sm(scene)\n",
    "        j_d = (int)(PATCH_SIZE * LR_HR_RATIO / 2)\n",
    "        h,w = pivot * 3\n",
    "        \n",
    "        slices = [slice(h - j_d, h + j_d), slice(w - j_d, w + j_d), 0]\n",
    "        label = tf.stack([sm[slices], hr[slices]], axis=0)\n",
    "        return stack_cropped, label\n",
    "    \n",
    "    def get_pivot(self, grid_size:int =128, border_size: int=40):\n",
    "        return tf.random.uniform([2], border_size, grid_size-border_size, dtype=tf.dtypes.int32)\n",
    "\n",
    "    \"\"\"\n",
    "    Singe Image Block\n",
    "    \"\"\"\n",
    "    \n",
    "    @tf.function\n",
    "    def load_train_image(self, filepath, augment=True):\n",
    "        lr_hr_sm = self.load_image(filepath)\n",
    "        w = tf.shape(lr_hr_sm)[1]\n",
    "        w = w // 3\n",
    "        lr = lr_hr_sm[:, :w, :]\n",
    "        hr = lr_hr_sm[:, w:2*w, :]\n",
    "        sm = lr_hr_sm[:, 2*w:3*w, :]\n",
    "        lr = tf.cast(lr, tf.float32)\n",
    "        hr = tf.cast(hr, tf.float32)\n",
    "        sm = tf.cast(hr, tf.float32)\n",
    "        \n",
    "        if augment:\n",
    "            return self.random_jitter(lr, hr, sm)\n",
    "        else:\n",
    "            return lr, hr, sm\n",
    "    \n",
    "    def resize(self, image, height, width):\n",
    "        return tf.image.resize(image, [height, width], method=tf.image.ResizeMethod.NEAREST_NEIGHBOR)\n",
    "    \n",
    "    def random_crop(self, lr, hr, sm):\n",
    "        stacked_image = tf.stack([lr, hr, sm], axis=0)\n",
    "        cropped_image = tf.image.random_crop(stacked_image, size=[3, 384, 384, 1])\n",
    "        return cropped_image[0], cropped_image[1], cropped_image[2]\n",
    "        \n",
    "    @tf.function()\n",
    "    def random_jitter(self, lr, hr, sm):\n",
    "        lr, hr, sm = self.resize(lr, 429, 429), self.resize(hr, 429, 429), self.resize(sm, 429, 429)\n",
    "        lr, hr, sm = self.random_crop(lr, hr, sm)\n",
    "\n",
    "        if tf.random.uniform(()) >= 0.5:\n",
    "            lr = tf.image.flip_left_right(lr)\n",
    "            hr = tf.image.flip_left_right(hr)\n",
    "            sm = tf.image.flip_left_right(sm)\n",
    "            \n",
    "        if tf.random.uniform(()) >= 0.5:\n",
    "            lr = tf.image.flip_up_down(lr)\n",
    "            hr = tf.image.flip_up_down(hr)\n",
    "            sm = tf.image.flip_up_down(sm)\n",
    "\n",
    "        return lr, hr, sm\n",
    "    \n",
    "    def load_test_image(self, filepath):\n",
    "        return self.load_image(filepath)\n",
    "        "
   ]
  },
  {
   "cell_type": "code",
   "execution_count": 32,
   "metadata": {},
   "outputs": [],
   "source": [
    "data_dir = \"DataGenerated/\"\n",
    "ds = ProbaVDataset(\"DataGenerated/\")"
   ]
  },
  {
   "cell_type": "code",
   "execution_count": 33,
   "metadata": {
    "scrolled": false
   },
   "outputs": [],
   "source": [
    "BUFFER_SIZE = 400\n",
    "batch_size = 2\n",
    "\n",
    "train_dataset = tf.data.Dataset.list_files(data_dir +  \"train/*/*/LR_HR_SM.png\")\n",
    "train_dataset = train_dataset.shuffle(BUFFER_SIZE)\n",
    "train_dataset = train_dataset.map(ds.load_train_image, num_parallel_calls=tf.data.experimental.AUTOTUNE)\n",
    "train_dataset = train_dataset.batch(batch_size)"
   ]
  },
  {
   "cell_type": "code",
   "execution_count": 34,
   "metadata": {},
   "outputs": [],
   "source": [
    "test_dataset = tf.data.Dataset.list_files(data_dir +  \"test/*/*/up_LR.png\")\n",
    "train_dataset = train_dataset.shuffle(BUFFER_SIZE)\n",
    "test_dataset = test_dataset.map(ds.load_test_image)\n",
    "test_dataset = test_dataset.batch(1)"
   ]
  },
  {
   "cell_type": "code",
   "execution_count": null,
   "metadata": {},
   "outputs": [],
   "source": []
  },
  {
   "cell_type": "code",
   "execution_count": null,
   "metadata": {},
   "outputs": [],
   "source": []
  },
  {
   "cell_type": "code",
   "execution_count": 35,
   "metadata": {},
   "outputs": [],
   "source": [
    "from tensorflow.keras.layers import Conv2D, LeakyReLU, BatchNormalization, Activation, Flatten, Dense, Input\n",
    "\n",
    "class SuperResolutionGan():\n",
    "    \n",
    "    def __init__(self):\n",
    "        self.generator = self.build_generator()\n",
    "        self.discriminator = self.build_discriminator()\n",
    "        \n",
    "        inputs = Input(shape=[384,384,1])\n",
    "        gen_out = self.generator(inputs)\n",
    "        model_out = self.discriminator(gen_out)\n",
    "\n",
    "        self.srg = tf.keras.Model(inputs, [gen_out, model_out])\n",
    "        \n",
    "    def build_discriminator(self):\n",
    "        discriminator_input = tf.keras.layers.Input(shape=[384,384,1])\n",
    "        \n",
    "        model = Conv2D(32, 3, strides=1, padding='same')(discriminator_input)\n",
    "        model = LeakyReLU(alpha = 0.2)(model)\n",
    "        model = self.discriminator_block(model, 32, 3, 2)\n",
    "        model = self.discriminator_block(model, 64, 3, 1)\n",
    "        model = self.discriminator_block(model, 64, 3, 2)\n",
    "        model = self.discriminator_block(model, 128, 3, 1)\n",
    "        model = self.discriminator_block(model, 128, 3, 2)\n",
    "        model = self.discriminator_block(model, 256, 3, 1)\n",
    "        model = self.discriminator_block(model, 256, 3, 2)\n",
    "        # need more depth?\n",
    "        \n",
    "        model = Flatten()(model)\n",
    "        model = Dense(512)(model)\n",
    "        model = LeakyReLU(alpha = 0.2)(model)\n",
    "        \n",
    "        # One final output value if the image was \"generated\" aka upsampled or not\n",
    "        model = Dense(1)(model)\n",
    "        model = Activation('sigmoid')(model)\n",
    "        \n",
    "        return tf.keras.Model(inputs = discriminator_input, outputs = model)\n",
    "        \n",
    "    def build_generator(self):\n",
    "            generator_input = tf.keras.layers.Input(shape=[384,384,1])\n",
    "\n",
    "            model = Conv2D(64, 9, strides=1, padding='same')(generator_input)\n",
    "            for i in range(10):\n",
    "                model = self.residual_block_gen(model, 3, 64, 1)\n",
    "\n",
    "            model = Conv2D(32, 3, strides=1, padding='same')(model)\n",
    "            model = LeakyReLU(alpha = 0.25)(model)\n",
    "            #model = BatchNormalization()(model) # momentum = 0.5?\n",
    "            model = Conv2D(16, 3, strides=1, padding='same')(model)\n",
    "            model = LeakyReLU(alpha = 0.25)(model)\n",
    "            model = Conv2D(1, 9, strides=1, padding='same')(model)\n",
    "            model = Activation('tanh')(model)\n",
    "\n",
    "            return tf.keras.Model(inputs=generator_input, outputs=model)\n",
    "        \n",
    "\n",
    "    def residual_block_gen(self, model, kernel_size, filters, strides):\n",
    "        # for skip connection since this is a residual block\n",
    "        previous = model\n",
    "        \n",
    "        initializer = tf.random_normal_initializer(0., 0.02) # TODO\n",
    "        \n",
    "        model = Conv2D(filters, kernel_size, strides=strides, padding='same', kernel_initializer=initializer)(model)\n",
    "        model = BatchNormalization()(model)\n",
    "        model = LeakyReLU()(model)\n",
    "        model = Conv2D(filters, kernel_size, strides=strides, padding='same', kernel_initializer=initializer)(model)\n",
    "        model = BatchNormalization()(model)\n",
    "        \n",
    "        return tf.keras.layers.Add()([previous, model])\n",
    "    \n",
    "    \n",
    "    def discriminator_block(self, model, filters, kernel, strides):\n",
    "        initializer = tf.random_normal_initializer(0., 0.02)\n",
    "        \n",
    "        model = Conv2D(filters, kernel, strides = strides, padding = \"same\", kernel_initializer=initializer)(model)\n",
    "        model = BatchNormalization()(model)\n",
    "        model = LeakyReLU(alpha = 0.2)(model)\n",
    "\n",
    "        return model"
   ]
  },
  {
   "cell_type": "code",
   "execution_count": 36,
   "metadata": {
    "scrolled": true
   },
   "outputs": [],
   "source": [
    "srg = SuperResolutionGan()"
   ]
  },
  {
   "cell_type": "code",
   "execution_count": 9,
   "metadata": {
    "scrolled": false
   },
   "outputs": [
    {
     "name": "stdout",
     "output_type": "stream",
     "text": [
      "tf.Tensor([[0.5000005]], shape=(1, 1), dtype=float32)\n"
     ]
    },
    {
     "data": {
      "image/png": "[encoded data removed]",
      "text/plain": [
       "<Figure size 432x288 with 1 Axes>"
      ]
     },
     "metadata": {
      "needs_background": "light"
     },
     "output_type": "display_data"
    }
   ],
   "source": [
    "test_output = srg.srg(ds.load_train_image(\"DataGenerated/train/RED/imgset0478/LR_HR_SM.png\")[0][tf.newaxis,...], training=False)\n",
    "plt.imshow(test_output[0][0][:,:,0])\n",
    "print(test_output[1])"
   ]
  },
  {
   "cell_type": "code",
   "execution_count": null,
   "metadata": {},
   "outputs": [],
   "source": []
  },
  {
   "cell_type": "code",
   "execution_count": null,
   "metadata": {},
   "outputs": [],
   "source": [
    "def maskedScaledMSE(hr, sm, sr):\n",
    "    pass\n",
    "    #TODO"
   ]
  },
  {
   "cell_type": "code",
   "execution_count": 37,
   "metadata": {},
   "outputs": [],
   "source": [
    "from tensorflow.keras.optimizers import Adam\n",
    "binary_loss = tf.keras.losses.BinaryCrossentropy(from_logits=True)\n",
    "LAMBDA = 100"
   ]
  },
  {
   "cell_type": "code",
   "execution_count": 38,
   "metadata": {},
   "outputs": [],
   "source": [
    "def discriminator_loss(disc_real_output, disc_generated_output):\n",
    "    real_loss = binary_loss(tf.ones_like(disc_real_output), disc_real_output)\n",
    "    generated_loss = binary_loss(tf.zeros_like(disc_generated_output), disc_generated_output)\n",
    "    total_disc_loss = real_loss + generated_loss\n",
    "\n",
    "    return total_disc_loss"
   ]
  },
  {
   "cell_type": "code",
   "execution_count": 39,
   "metadata": {},
   "outputs": [],
   "source": [
    "def generator_loss(disc_output, gen_output, hr):\n",
    "    # we try to trick the discriminator to predict our generated image to be considered as valid ([1])\n",
    "    gan_loss = binary_loss(tf.ones_like(disc_output), disc_output)\n",
    "    \n",
    "    # We also want the image to look as similar as possible to the HR images\n",
    "    # TODO use maskedScaledMSE or MAE\n",
    "    l1_loss = tf.reduce_mean(tf.abs(hr - gen_output))\n",
    "    #  [32,384,384,1], [32,1]\n",
    "    \n",
    "    # Lambda controls how much we value each loss\n",
    "    return gan_loss + (LAMBDA * l1_loss)"
   ]
  },
  {
   "cell_type": "code",
   "execution_count": 40,
   "metadata": {},
   "outputs": [],
   "source": [
    "generator_optimizer = tf.keras.optimizers.Adam(2e-4, beta_1=0.5)\n",
    "discriminator_optimizer = tf.keras.optimizers.Adam(2e-4, beta_1=0.5)"
   ]
  },
  {
   "cell_type": "markdown",
   "metadata": {},
   "source": [
    "### Checkpoints"
   ]
  },
  {
   "cell_type": "code",
   "execution_count": 41,
   "metadata": {},
   "outputs": [],
   "source": [
    "checkpoint_dir = './TrainingCheckpoint'\n",
    "checkpoint_prefix = os.path.join(checkpoint_dir, \"ckpt\")\n",
    "checkpoint = tf.train.Checkpoint(generator_optimizer=generator_optimizer,\n",
    "                                 discriminator_optimizer=discriminator_optimizer,\n",
    "                                 generator=srg.generator,\n",
    "                                 discriminator=srg.discriminator)"
   ]
  },
  {
   "cell_type": "code",
   "execution_count": 42,
   "metadata": {},
   "outputs": [],
   "source": [
    "EPOCHS = 2500"
   ]
  },
  {
   "cell_type": "code",
   "execution_count": 43,
   "metadata": {},
   "outputs": [],
   "source": [
    "@tf.function\n",
    "def train_step(lr, hr):\n",
    "    with tf.GradientTape() as gen_tape, tf.GradientTape() as disc_tape:\n",
    "        # Get generator output\n",
    "        gen_output = srg.generator(lr, training=True)\n",
    "        \n",
    "        # Get discriminator output for the real image and the super resolved image\n",
    "        disc_real_output = srg.discriminator(hr, training=True)\n",
    "        disc_generated_output = srg.discriminator(gen_output, training=True)\n",
    "        \n",
    "        # Discriminator is trained to map real image to [1] and generated image to [0] \n",
    "        # moved un functions\n",
    "        #valid = tf.ones(batch_size) # - tf.random.uniform([batch_size]) * 0.2\n",
    "        #fake = tf.zeros(batch_size) # + tf.random.uniform([batch_size]) * 0.2\n",
    "        \n",
    "        # Compute losses for each network using above functions\n",
    "        gen_loss = generator_loss(disc_generated_output, gen_output, hr)\n",
    "        disc_loss = discriminator_loss(disc_real_output, disc_generated_output)\n",
    "        \n",
    "        # We compute gradient for each part\n",
    "        generator_gradients = gen_tape.gradient(gen_loss, srg.generator.trainable_variables)\n",
    "        discriminator_gradients = disc_tape.gradient(disc_loss, srg.discriminator.trainable_variables)\n",
    "\n",
    "        # We apply the gradient to the variables, tf2.0 way\n",
    "        generator_optimizer.apply_gradients(zip(generator_gradients, srg.generator.trainable_variables))\n",
    "        discriminator_optimizer.apply_gradients(zip(discriminator_gradients, srg.discriminator.trainable_variables))\n",
    "\n",
    "    \n"
   ]
  },
  {
   "cell_type": "code",
   "execution_count": 44,
   "metadata": {},
   "outputs": [],
   "source": [
    "def generate_images(model, test_input, tar):\n",
    "    # the training=True is intentional here since\n",
    "    # we want the batch statistics while running the model\n",
    "    # on the test dataset. If we use training=False, we will get\n",
    "    # the accumulated statistics learned from the training dataset\n",
    "    # (which we don't want)\n",
    "    prediction = model(test_input, training=True)\n",
    "    plt.figure(figsize=(15,15))\n",
    "\n",
    "    display_list = [test_input[0], tar[0], prediction[0]]\n",
    "    title = ['Input Image', 'Ground Truth', 'Predicted Image']\n",
    "\n",
    "    for i in range(3):\n",
    "        plt.subplot(1, 3, i+1)\n",
    "        plt.title(title[i])\n",
    "        # getting the pixel values between [0, 1] to plot it.\n",
    "        plt.imshow(display_list[i] * 0.5 + 0.5)\n",
    "        plt.axis('off')\n",
    "    plt.show()"
   ]
  },
  {
   "cell_type": "code",
   "execution_count": 51,
   "metadata": {},
   "outputs": [],
   "source": [
    "def show_test_pred(generator, up_LR):\n",
    "    predicted = generator.predict(up_LR)\n",
    "    plt.figure(figsize=(15,15))\n",
    "    \n",
    "    display_list = [up_LR[0], predicted[0]]\n",
    "    title = ['Input Image', 'Predicted Image']\n",
    "    \n",
    "    for i in range(2):\n",
    "        plt.subplot(1, 2, i+1)\n",
    "        plt.title(title[i])\n",
    "        plt.imshow(display_list[i][:,:,0])\n",
    "        plt.axis('off')\n",
    "    plt.show()\n",
    "    "
   ]
  },
  {
   "cell_type": "code",
   "execution_count": 46,
   "metadata": {},
   "outputs": [],
   "source": [
    "def train(dataset, epochs):\n",
    "    for epoch in range(epochs):\n",
    "        start = time.time()\n",
    "\n",
    "        for lr, hr, sm in dataset:\n",
    "            train_step(lr, hr)\n",
    "\n",
    "        #clear_output(wait=True)\n",
    "        for up_LR in test_dataset.take(1):\n",
    "            show_test_pred(srg.generator, up_LR)\n",
    "\n",
    "        # saving (checkpoint) the model every 20 epochs\n",
    "        if (epoch + 1) % 20 == 0:\n",
    "            checkpoint.save(file_prefix = checkpoint_prefix)\n",
    "\n",
    "        print ('Time taken for epoch {} is {} sec\\n'.format(epoch + 1, time.time()-start))"
   ]
  },
  {
   "cell_type": "code",
   "execution_count": 47,
   "metadata": {},
   "outputs": [
    {
     "ename": "TypeError",
     "evalue": "predict() got an unexpected keyword argument 'training'",
     "output_type": "error",
     "traceback": [
      "\u001b[0;31m---------------------------------------------------------------------------\u001b[0m",
      "\u001b[0;31mTypeError\u001b[0m                                 Traceback (most recent call last)",
      "\u001b[0;32m<ipython-input-47-ca919660067a>\u001b[0m in \u001b[0;36m<module>\u001b[0;34m\u001b[0m\n\u001b[0;32m----> 1\u001b[0;31m \u001b[0mtrain\u001b[0m\u001b[0;34m(\u001b[0m\u001b[0mtrain_dataset\u001b[0m\u001b[0;34m,\u001b[0m \u001b[0;36m5\u001b[0m\u001b[0;34m)\u001b[0m\u001b[0;34m\u001b[0m\u001b[0;34m\u001b[0m\u001b[0m\n\u001b[0m",
      "\u001b[0;32m<ipython-input-46-b6c69d7e8d50>\u001b[0m in \u001b[0;36mtrain\u001b[0;34m(dataset, epochs)\u001b[0m\n\u001b[1;32m      8\u001b[0m         \u001b[0;31m#clear_output(wait=True)\u001b[0m\u001b[0;34m\u001b[0m\u001b[0;34m\u001b[0m\u001b[0;34m\u001b[0m\u001b[0m\n\u001b[1;32m      9\u001b[0m         \u001b[0;32mfor\u001b[0m \u001b[0mup_LR\u001b[0m \u001b[0;32min\u001b[0m \u001b[0mtest_dataset\u001b[0m\u001b[0;34m.\u001b[0m\u001b[0mtake\u001b[0m\u001b[0;34m(\u001b[0m\u001b[0;36m1\u001b[0m\u001b[0;34m)\u001b[0m\u001b[0;34m:\u001b[0m\u001b[0;34m\u001b[0m\u001b[0;34m\u001b[0m\u001b[0m\n\u001b[0;32m---> 10\u001b[0;31m             \u001b[0mshow_test_pred\u001b[0m\u001b[0;34m(\u001b[0m\u001b[0msrg\u001b[0m\u001b[0;34m.\u001b[0m\u001b[0mgenerator\u001b[0m\u001b[0;34m,\u001b[0m \u001b[0mup_LR\u001b[0m\u001b[0;34m)\u001b[0m\u001b[0;34m\u001b[0m\u001b[0;34m\u001b[0m\u001b[0m\n\u001b[0m\u001b[1;32m     11\u001b[0m \u001b[0;34m\u001b[0m\u001b[0m\n\u001b[1;32m     12\u001b[0m         \u001b[0;31m# saving (checkpoint) the model every 20 epochs\u001b[0m\u001b[0;34m\u001b[0m\u001b[0;34m\u001b[0m\u001b[0;34m\u001b[0m\u001b[0m\n",
      "\u001b[0;32m<ipython-input-45-df4107d422f0>\u001b[0m in \u001b[0;36mshow_test_pred\u001b[0;34m(generator, up_LR)\u001b[0m\n\u001b[1;32m      1\u001b[0m \u001b[0;32mdef\u001b[0m \u001b[0mshow_test_pred\u001b[0m\u001b[0;34m(\u001b[0m\u001b[0mgenerator\u001b[0m\u001b[0;34m,\u001b[0m \u001b[0mup_LR\u001b[0m\u001b[0;34m)\u001b[0m\u001b[0;34m:\u001b[0m\u001b[0;34m\u001b[0m\u001b[0;34m\u001b[0m\u001b[0m\n\u001b[0;32m----> 2\u001b[0;31m     \u001b[0mpredicted\u001b[0m \u001b[0;34m=\u001b[0m \u001b[0mgenerator\u001b[0m\u001b[0;34m.\u001b[0m\u001b[0mpredict\u001b[0m\u001b[0;34m(\u001b[0m\u001b[0mup_LR\u001b[0m\u001b[0;34m,\u001b[0m \u001b[0mtraining\u001b[0m\u001b[0;34m=\u001b[0m\u001b[0;32mTrue\u001b[0m\u001b[0;34m)\u001b[0m\u001b[0;34m\u001b[0m\u001b[0;34m\u001b[0m\u001b[0m\n\u001b[0m\u001b[1;32m      3\u001b[0m     \u001b[0mplt\u001b[0m\u001b[0;34m.\u001b[0m\u001b[0mfigure\u001b[0m\u001b[0;34m(\u001b[0m\u001b[0mfigsize\u001b[0m\u001b[0;34m=\u001b[0m\u001b[0;34m(\u001b[0m\u001b[0;36m15\u001b[0m\u001b[0;34m,\u001b[0m\u001b[0;36m15\u001b[0m\u001b[0;34m)\u001b[0m\u001b[0;34m)\u001b[0m\u001b[0;34m\u001b[0m\u001b[0;34m\u001b[0m\u001b[0m\n\u001b[1;32m      4\u001b[0m \u001b[0;34m\u001b[0m\u001b[0m\n\u001b[1;32m      5\u001b[0m     \u001b[0mdisplay_list\u001b[0m \u001b[0;34m=\u001b[0m \u001b[0;34m[\u001b[0m\u001b[0mup_LR\u001b[0m\u001b[0;34m[\u001b[0m\u001b[0;36m0\u001b[0m\u001b[0;34m]\u001b[0m\u001b[0;34m,\u001b[0m \u001b[0mpredicted\u001b[0m\u001b[0;34m[\u001b[0m\u001b[0;36m0\u001b[0m\u001b[0;34m]\u001b[0m\u001b[0;34m]\u001b[0m\u001b[0;34m\u001b[0m\u001b[0;34m\u001b[0m\u001b[0m\n",
      "\u001b[0;31mTypeError\u001b[0m: predict() got an unexpected keyword argument 'training'"
     ]
    }
   ],
   "source": [
    "train(train_dataset, 5)"
   ]
  },
  {
   "cell_type": "code",
   "execution_count": null,
   "metadata": {},
   "outputs": [],
   "source": []
  },
  {
   "cell_type": "code",
   "execution_count": 58,
   "metadata": {
    "scrolled": true
   },
   "outputs": [],
   "source": [
    "for lr, hr, sm in train_dataset:\n",
    "    lr = lr\n",
    "    hr = hr\n",
    "    break"
   ]
  }
 ],
 "metadata": {
  "kernelspec": {
   "display_name": "Python 3",
   "language": "python",
   "name": "python3"
  },
  "language_info": {
   "codemirror_mode": {
    "name": "ipython",
    "version": 3
   },
   "file_extension": ".py",
   "mimetype": "text/x-python",
   "name": "python",
   "nbconvert_exporter": "python",
   "pygments_lexer": "ipython3",
   "version": "3.6.8"
  }
 },
 "nbformat": 4,
 "nbformat_minor": 2
}
