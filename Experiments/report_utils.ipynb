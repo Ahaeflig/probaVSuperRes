{
 "cells": [
  {
   "cell_type": "code",
   "execution_count": 71,
   "metadata": {},
   "outputs": [],
   "source": [
    "import imageio\n",
    "from glob import glob\n",
    "\n",
    "from shutil import move\n",
    "import shutil"
   ]
  },
  {
   "cell_type": "code",
   "execution_count": 50,
   "metadata": {},
   "outputs": [],
   "source": [
    "filenames = glob(\"../Result/1BBatchMultipleResidualCNN/*\")"
   ]
  },
  {
   "cell_type": "code",
   "execution_count": 67,
   "metadata": {},
   "outputs": [],
   "source": [
    "filenames = glob(\"../../../asdasd2/*\")"
   ]
  },
  {
   "cell_type": "code",
   "execution_count": 68,
   "metadata": {},
   "outputs": [],
   "source": [
    "# map 1 => 00001 etc\n",
    "def leading_zero(path):\n",
    "    num_int = int(path.split(\"residual\")[-1].split(\".\")[0])\n",
    "    num = \"{:05d}\".format(num_int)\n",
    "    return \"/\".join(path.split(\"/\")[:-1]) + \"/\" + num + \".png\"\n",
    "\n",
    "filenames_fixed = list(map(lambda x: leading_zero(x), filenames))"
   ]
  },
  {
   "cell_type": "code",
   "execution_count": null,
   "metadata": {},
   "outputs": [],
   "source": []
  },
  {
   "cell_type": "code",
   "execution_count": null,
   "metadata": {},
   "outputs": [],
   "source": []
  },
  {
   "cell_type": "code",
   "execution_count": null,
   "metadata": {},
   "outputs": [],
   "source": [
    "# map 1 => 00001 etc\n",
    "def leading_zero(path):\n",
    "    print(path.split(\"/\")[-1].split(\".\")[0])\n",
    "    num_int = int(path.split(\"/\")[-1].split(\".\")[0])\n",
    "    num = \"{:05d}\".format(num_int)\n",
    "    return \"/\".join(path.split(\"/\")[:-1]) + \"/\" + num + \".png\"\n",
    "\n",
    "filenames_fixed = list(map(lambda x: leading_zero(x), filenames))"
   ]
  },
  {
   "cell_type": "code",
   "execution_count": 69,
   "metadata": {},
   "outputs": [],
   "source": [
    "for old, new in zip(filenames, filenames_fixed):\n",
    "    move(old, new)"
   ]
  },
  {
   "cell_type": "code",
   "execution_count": null,
   "metadata": {},
   "outputs": [],
   "source": []
  },
  {
   "cell_type": "code",
   "execution_count": 46,
   "metadata": {
    "scrolled": false
   },
   "outputs": [
    {
     "data": {
      "text/plain": [
       "'../Result/1BBatchMultipleResidualCNN/01649.png'"
      ]
     },
     "execution_count": 46,
     "metadata": {},
     "output_type": "execute_result"
    }
   ],
   "source": [
    "filenames = glob(\"../Result/1BBatchMultipleResidualCNN/*\")\n",
    "filenames[0]"
   ]
  },
  {
   "cell_type": "code",
   "execution_count": null,
   "metadata": {},
   "outputs": [],
   "source": []
  },
  {
   "cell_type": "markdown",
   "metadata": {},
   "source": [
    "make gif, finally using imagemagick:\n",
    "\n",
    "\n",
    "convert -delay 20 -loop 0 *png animated.gif\n",
    "\n",
    "\n",
    "(not installed in docker so run outside)"
   ]
  },
  {
   "cell_type": "code",
   "execution_count": null,
   "metadata": {},
   "outputs": [],
   "source": [
    "!convert -delay 20 -loop 0 *png animated.gif"
   ]
  },
  {
   "cell_type": "code",
   "execution_count": null,
   "metadata": {},
   "outputs": [],
   "source": []
  },
  {
   "cell_type": "markdown",
   "metadata": {},
   "source": [
    "gif with skimage"
   ]
  },
  {
   "cell_type": "code",
   "execution_count": 9,
   "metadata": {},
   "outputs": [],
   "source": [
    "images = []\n",
    "for filename in filenames:\n",
    "    images.append(imageio.imread(filename))\n",
    "imageio.mimsave('test.gif', images)"
   ]
  },
  {
   "cell_type": "code",
   "execution_count": 12,
   "metadata": {},
   "outputs": [],
   "source": [
    "imageio.mimsave?"
   ]
  },
  {
   "cell_type": "code",
   "execution_count": null,
   "metadata": {},
   "outputs": [],
   "source": []
  },
  {
   "cell_type": "code",
   "execution_count": null,
   "metadata": {},
   "outputs": [],
   "source": []
  },
  {
   "cell_type": "code",
   "execution_count": 1,
   "metadata": {},
   "outputs": [],
   "source": [
    "losses = [3.3126192,\n",
    "2.4603095,\n",
    "2.3754168,\n",
    "2.3298888,\n",
    "2.313075,\n",
    "2.2915475,\n",
    "2.2561748,\n",
    "2.2468557,\n",
    "2.2329574,\n",
    "2.2064786,\n",
    "2.1887782,\n",
    "2.1739782,\n",
    "2.1574402,\n",
    "2.1431982,\n",
    "2.1254132,\n",
    "2.1192422,\n",
    "2.1120572,\n",
    "2.0762782,\n",
    "2.0360892,\n",
    "2.0141762,\n",
    "1.9949342,\n",
    "2.139522,\n",
    "2.0863402,\n",
    "2.0622372,\n",
    "2.0147692,\n",
    "1.9924742,\n",
    "1.9949282,\n",
    "1.9858022,\n",
    "1.920149,\n",
    "1.9760832,\n",
    "1.9143822,\n",
    "1.857441,\n",
    "1.8495142,\n",
    "1.8173512,\n",
    "1.803535,\n",
    "1.7944752,\n",
    "1.732243,\n",
    "1.7213862,\n",
    "1.7277122,\n",
    "1.6922532,\n",
    "1.6723832,\n",
    "1.6536242,\n",
    "1.6391042,\n",
    "1.6219722,\n",
    "1.6660622,\n",
    "1.6702452,\n",
    "1.6294502,\n",
    "1.5886782,\n",
    "1.5693342,\n",
    "1.5519502,\n",
    "1.5439532,\n",
    "1.5265092,\n",
    "1.5254452,\n",
    "1.5010322,\n",
    "1.4671602,\n",
    "1.475423,\n",
    "1.4601752,\n",
    "1.4296942,\n",
    "1.4199032,\n",
    "1.3801102,\n",
    "1.371463,\n",
    "1.3717952,\n",
    "1.3417832,\n",
    "1.3594632,\n",
    "1.3565822,\n",
    "1.3221802,\n",
    "1.3586432,\n",
    "1.3236642,\n",
    "1.2958962,\n",
    "1.2733432,\n",
    "1.316517,\n",
    "1.3580312,\n",
    "1.294385,\n",
    "1.2327022,\n",
    "1.2125952,\n",
    "1.2422522,\n",
    "1.232962,\n",
    "1.2800882,\n",
    "1.2108332,\n",
    "1.1890112,\n",
    "1.1826252,\n",
    "1.1846792,\n",
    "1.1624142,\n",
    "1.2339672,\n",
    "1.1919072,\n",
    "1.1705142,\n",
    "1.1582892,\n",
    "1.1400132,\n",
    "1.1289192,\n",
    "1.1552312,\n",
    "1.1673722,\n",
    "1.1526402,\n",
    "1.1539142,\n",
    "1.1474962,\n",
    "1.1476612,\n",
    "1.1651562,\n",
    "1.1512622,\n",
    "1.1294942,\n",
    "1.1678462,\n",
    "1.1665942,\n",
    "1.1433122,\n",
    "1.1223152,\n",
    "1.1181632,\n",
    "1.0876432,\n",
    "1.101012,\n",
    "1.0894732,\n",
    "1.0867032,\n",
    "1.0753332,\n",
    "1.06935,\n",
    "1.0482932,\n",
    "1.0764132,\n",
    "1.0907132,\n",
    "1.042072,\n",
    "1.0668632,\n",
    "1.0775832,\n",
    "1.0775832,\n",
    "1.0476732,\n",
    "1.0557232,\n",
    "1.0635532,\n",
    "1.0400632,\n",
    "1.0351232,\n",
    "1.0492932,\n",
    "1.0401032,\n",
    "1.0300532,\n",
    "1.004562,\n",
    "1.0093132,\n",
    "1.0283232,\n",
    "1.073352,\n",
    "1.1965332,\n",
    "1.0830932,\n",
    "1.048702,\n",
    "1.045142,\n",
    "1.0402732,\n",
    "1.0105232,\n",
    "1.0004532,\n",
    "0.97796,\n",
    "0.9681232,\n",
    "0.9606632,\n",
    "0.96770,\n",
    "0.9741832,\n",
    "0.9884932,\n",
    "0.9782432,\n",
    "0.964672,\n",
    "0.96149,\n",
    "0.94632,\n",
    "0.9786332,\n",
    "0.95409,\n",
    "1.0142532,\n",
    "0.991502,\n",
    "0.9560232,\n",
    "0.94962,\n",
    "0.95232,\n",
    "0.94474,\n",
    "0.9362232,\n",
    "0.91681,\n",
    "0.93125,\n",
    "0.93209,\n",
    "0.93280,\n",
    "0.9765032,\n",
    "0.9668532,\n",
    "0.94153,\n",
    "0.93377,\n",
    "0.93995,\n",
    "0.95366,\n",
    "0.9340832,\n",
    "0.9448132,\n",
    "0.9588932,\n",
    "0.92488,\n",
    "0.925962,\n",
    "0.9206132,\n",
    "0.92287,\n",
    "0.9247632,\n",
    "0.94550,\n",
    "0.98042,\n",
    "0.976232,\n",
    "0.9484632,\n",
    "0.91653,\n",
    "0.92416,\n",
    "0.9006732,\n",
    "0.8879732,\n",
    "0.8803732,\n",
    "0.87875,\n",
    "0.935512,\n",
    "0.99010,\n",
    "0.91927,\n",
    "0.90080,\n",
    "0.88973,\n",
    "0.87503,\n",
    "0.8819032,\n",
    "0.8813932,\n",
    "0.89879,\n",
    "0.9207832,\n",
    "0.915552,\n",
    "0.8894232,\n",
    "0.9007232,\n",
    "0.8873932,\n",
    "0.87940,\n",
    "0.8862332,\n",
    "0.9026432,\n",
    "0.89240,\n",
    "0.9060832,\n",
    "0.8865232,\n",
    "0.8796232,\n",
    "0.8808632,\n",
    "0.9030432,\n",
    "0.88912,\n",
    "0.8882132,\n",
    "0.8841232,\n",
    "0.88556,\n",
    "0.890542,\n",
    "0.8930332,\n",
    "0.9005832,\n",
    "0.88037,\n",
    "0.86174,\n",
    "0.85781,\n",
    "0.8744432,\n",
    "0.88132,\n",
    "0.8837832,\n",
    "0.8769132,\n",
    "0.8861432,\n",
    "0.8874432,\n",
    "0.8753432,\n",
    "0.8702032,\n",
    "0.86785,\n",
    "0.8679132,\n",
    "0.87720,\n",
    "0.8754432,\n",
    "0.8727632,\n",
    "0.87234,\n",
    "0.87306,\n",
    "0.8772132,\n",
    "0.874382,\n",
    "0.8820332,\n",
    "0.8733432,\n",
    "0.8762532,\n",
    "0.86882,\n",
    "0.8602532,\n",
    "0.864152,\n",
    "0.8741332,\n",
    "0.8741532,\n",
    "0.8675032,\n",
    "0.88081,\n",
    "0.87058,\n",
    "0.8633332,\n",
    "0.85703,\n",
    "0.85297,\n",
    "0.8492932]"
   ]
  },
  {
   "cell_type": "code",
   "execution_count": null,
   "metadata": {},
   "outputs": [],
   "source": []
  },
  {
   "cell_type": "code",
   "execution_count": 2,
   "metadata": {},
   "outputs": [],
   "source": [
    "import matplotlib.pyplot as plt"
   ]
  },
  {
   "cell_type": "code",
   "execution_count": 6,
   "metadata": {},
   "outputs": [
    {
     "data": {
      "image/png": "[encoded data removed]",
      "text/plain": [
       "<Figure size 864x360 with 1 Axes>"
      ]
     },
     "metadata": {
      "needs_background": "light"
     },
     "output_type": "display_data"
    }
   ],
   "source": [
    "fig = plt.figure(figsize=(12,5))\n",
    "fig.suptitle('Train loss per epoch', fontsize=20)\n",
    "plt.xlabel(\"Epoch\", fontsize=16)\n",
    "plt.ylabel('Train Loss', fontsize=16)\n",
    "plt.plot(losses);"
   ]
  }
 ],
 "metadata": {
  "kernelspec": {
   "display_name": "Python 3",
   "language": "python",
   "name": "python3"
  },
  "language_info": {
   "codemirror_mode": {
    "name": "ipython",
    "version": 3
   },
   "file_extension": ".py",
   "mimetype": "text/x-python",
   "name": "python",
   "nbconvert_exporter": "python",
   "pygments_lexer": "ipython3",
   "version": "3.6.8"
  }
 },
 "nbformat": 4,
 "nbformat_minor": 2
}
