{
 "cells": [
  {
   "cell_type": "markdown",
   "metadata": {},
   "source": [
    "# In this notebook, we will train a model that learns to supersample stack of patches using depthwise_conv2d convolutions \n",
    "Assumption is that 3D kernels will be good at having patch work together to reconstrust the final patch.\n",
    "\n",
    "\n",
    "Patches are 32 by 32 pixels\n",
    "_____________________________________\n",
    "Data augmentation strategy when training is done as follows:\n",
    "\n",
    "\n",
    "We sample a \"pivot\" point on a 128 by 128 grid such that we can sample 32 by 32 patches at varying shifted position around the pivot (Random crop strategy, meaning pivot not always at the center):\n",
    "1. Sample random pivot\n",
    "2. Load qms and rms images\n",
    "3. Slice image around pivot with dimension 32 + 8\n",
    "4. Stack qms and rms slices together (so we get same final crop when we use rms to condition the loss later)\n",
    "5. Random crop 32 by 32 slices from the 40 by 40 patches\n",
    "\n",
    "\n",
    "32 by 32 patches in low res maps to 96 by 96 patches in HR\n",
    "\n",
    "_____________________________________\n",
    "Other model will \"stich\" supersampled patches.\n"
   ]
  }
 ],
 "metadata": {
  "kernelspec": {
   "display_name": "Python 3",
   "language": "python",
   "name": "python3"
  },
  "language_info": {
   "codemirror_mode": {
    "name": "ipython",
    "version": 3
   },
   "file_extension": ".py",
   "mimetype": "text/x-python",
   "name": "python",
   "nbconvert_exporter": "python",
   "pygments_lexer": "ipython3",
   "version": "3.6.8"
  }
 },
 "nbformat": 4,
 "nbformat_minor": 2
}
