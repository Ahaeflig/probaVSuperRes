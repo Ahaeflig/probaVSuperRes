{
 "cells": [
  {
   "cell_type": "markdown",
   "metadata": {},
   "source": [
    "# Report"
   ]
  },
  {
   "cell_type": "markdown",
   "metadata": {},
   "source": [
    "For the next stage, we'd like you to try to tackle a ML task. Please take a look at this kaggle-like challenge and see what you can do with it.\n",
    "\n",
    "https://kelvins.esa.int/proba-v-super-resolution/home/\n",
    "\n",
    "In particular, what we're looking for is\n",
    "- Your analysis and understanding of the provided problem, challenge, data and results\n",
    "- Quality and creativity of the solution\n",
    "- Thought process and ability to convey it to us in words, tables, plots and/or visualizations\n",
    "- Readability and usability of the code\n",
    "-Feel free to bring your personal touch for problem-solving. Thinking outside of the box is a great way to impress us and making sure you're going to the next phase of the recruitment process! (;\n",
    "\n",
    "Submitting solutions are appreciated and recommended.\n",
    "Ranking high is potentially impressive but not necessarily expected given the time and other constraints.\n",
    "\n",
    "There is no hard deadline for the task. We expect you to work occasionally on it in case you are busy with other affairs (which we suppose you are).\n",
    "\n",
    "You are free to use your preferred choice of language or frameworks or external data sources if you so see fit.\n",
    "\n",
    "Expected deliverables are:\n",
    "- code, preferably in github form\n",
    "- Report describing your problem analysis, approach, results. Can be in pdf, readme markdown, ipynb form, a mix thereof, or whatever you feel is good at conveying information.\n",
    "\n",
    "Please do not hesitate to contact us if you have questions or concerns."
   ]
  }
 ],
 "metadata": {
  "kernelspec": {
   "display_name": "Python 3",
   "language": "python",
   "name": "python3"
  },
  "language_info": {
   "codemirror_mode": {
    "name": "ipython",
    "version": 3
   },
   "file_extension": ".py",
   "mimetype": "text/x-python",
   "name": "python",
   "nbconvert_exporter": "python",
   "pygments_lexer": "ipython3",
   "version": "3.6.8"
  }
 },
 "nbformat": 4,
 "nbformat_minor": 2
}
